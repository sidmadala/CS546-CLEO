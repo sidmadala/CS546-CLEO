{
 "cells": [
  {
   "cell_type": "code",
   "execution_count": null,
   "metadata": {},
   "outputs": [],
   "source": [
    "from datasets import load_dataset\n",
    "import networkx as nx\n",
    "import tqdm\n",
    "import IPython.display as ipd\n",
    "\n",
    "webNLG_dataset = load_dataset(\"web_nlg\", \"webnlg_challenge_2017\")"
   ]
  },
  {
   "cell_type": "code",
   "execution_count": null,
   "metadata": {},
   "outputs": [],
   "source": [
    "## Converting tripple set to a graph\n",
    "def generate_graph_for_tripple_set(tripple_set):\n",
    "    G = nx.Graph()\n",
    "    for tripple in tripple_set:\n",
    "        tripple = tripple.split(\" | \")\n",
    "        ## check if node is in G\n",
    "        if tripple[0] not in G.nodes:\n",
    "            G.add_node(tripple[0])\n",
    "        if tripple[1] not in G.nodes:\n",
    "            G.add_node(tripple[1])\n",
    "        if tripple[2] not in G.nodes:\n",
    "            G.add_node(tripple[2])\n",
    "        ## Add edge between nodes\n",
    "        G.add_edge(tripple[0], tripple[1])\n",
    "        G.add_edge(tripple[1], tripple[2])\n",
    "    return nx.cytoscape_data(G)\n",
    "\n",
    "## Printing function for each\n",
    "def print_details(idx):\n",
    "    print(\"EID: \", eid_list[idx])\n",
    "    for idx, text in enumerate(text_list[idx]):\n",
    "        print(f\"Option {idx}: {text}\\n\")\n",
    "    \n",
    "    print(\"Graph Visual:\")\n",
    "    nx.draw(nx.cytoscape_graph(graph_list[idx]),with_labels=True, font_size=8)\n",
    "    \n",
    "G = generate_graph_for_tripple_set(webNLG_dataset[\"train\"][0][\"modified_triple_sets\"][\"mtriple_set\"][0])\n",
    "\n",
    "## Iterate through all the triple sets and generate graphs\n",
    "eid_list = []\n",
    "graph_list = []\n",
    "text_list = []\n",
    "wav_list = []\n",
    "\n",
    "for each in tqdm.tqdm(webNLG_dataset[\"train\"]):\n",
    "    eid_list.append(each[\"eid\"])\n",
    "    text_list.append(each[\"lex\"][\"text\"])\n",
    "    ## Create the WAV file:\n",
    "#    each_wav_list = []\n",
    "#    for each_text in each[\"lex\"][\"text\"]:\n",
    "#        each_wav_list.append(generate_audio_content(each_text))\n",
    "#    wav_list.append(each_wav_list)\n",
    "    G = generate_graph_for_tripple_set(each[\"modified_triple_sets\"][\"mtriple_set\"][0])\n",
    "    graph_list.append(G)\n",
    "\n",
    "## Save the data\n",
    "import pickle\n",
    "with open(\"webNLG_data.pickle\", \"wb\") as f:\n",
    "    pickle.dump({\"eid_list\": eid_list, \"graph_list\": graph_list, \"text_list\": text_list, \"wav_list\": wav_list}, f)\n"
   ]
  },
  {
   "cell_type": "code",
   "execution_count": null,
   "metadata": {},
   "outputs": [],
   "source": [
    "import pandas as pd\n",
    "df = pd.DataFrame({\n",
    "    \"eid\": eid_list,\n",
    "    \"graph\": graph_list,\n",
    "    \"text\": text_list,\n",
    "})\n",
    "\n",
    "df = df.explode('text').reset_index(drop=True)\n",
    "\n"
   ]
  },
  {
   "cell_type": "code",
   "execution_count": null,
   "metadata": {},
   "outputs": [],
   "source": [
    "from accelerate import PartialState  # Can also be Accelerator or AcceleratorState\n",
    "from transformers import pipeline\n",
    "\n",
    "distributed_state = PartialState()\n",
    "pipe = pipeline(\"text-to-speech\", \"suno/bark\", device=distributed_state.device)\n",
    "\n",
    "with distributed_state.split_between_processes(list(df[\"text\"].values)) as prompt:\n",
    "    result = pipe(prompt)\n",
    "\n",
    "df[\"wav\"] = result\n",
    "\n",
    "from datasets import Dataset\n",
    "processed_dataset = Dataset.from_pandas(df)"
   ]
  },
  {
   "cell_type": "code",
   "execution_count": null,
   "metadata": {},
   "outputs": [],
   "source": []
  },
  {
   "cell_type": "code",
   "execution_count": null,
   "metadata": {},
   "outputs": [],
   "source": [
    "processed_dataset.add_column(\"wav\", result)"
   ]
  },
  {
   "cell_type": "code",
   "execution_count": null,
   "metadata": {},
   "outputs": [],
   "source": [
    "from transformers import pipeline\n",
    "\n",
    "synthesizer = pipeline(\"text-to-speech\", \"suno/bark\", device=\"cuda:0\")"
   ]
  },
  {
   "cell_type": "code",
   "execution_count": null,
   "metadata": {},
   "outputs": [],
   "source": [
    "outputs = synthesizer([\"Look I am generating speech in three lines of code!\"])"
   ]
  },
  {
   "cell_type": "code",
   "execution_count": null,
   "metadata": {},
   "outputs": [],
   "source": [
    "import IPython.display as ipd\n",
    "ipd.Audio(outputs[\"audio\"], rate=outputs[\"sampling_rate\"])"
   ]
  },
  {
   "cell_type": "markdown",
   "metadata": {},
   "source": []
  },
  {
   "cell_type": "code",
   "execution_count": 1,
   "metadata": {},
   "outputs": [],
   "source": [
    "## Load all files names in a folder\n",
    "import os\n",
    "\n",
    "def load_all_files_in_folder(folder_path):\n",
    "    file_list = []\n",
    "    for root, dirs, files in os.walk(folder_path):\n",
    "        for file in files:\n",
    "            file_list.append(os.path.join(root, file))\n",
    "    return file_list\n",
    "\n",
    "tmp_files = load_all_files_in_folder(\"data/tmp\")\n",
    "## Load each of the pickle files\n",
    "import pickle\n",
    "audio_list = []\n",
    "txt_list = []\n",
    "for each_file in tmp_files:\n",
    "    with open(each_file, \"rb\") as f:\n",
    "        tmp_dict = pickle.load(f)\n",
    "        audio_list.extend(tmp_dict[\"wav\"])\n",
    "        txt_list.extend(tmp_dict[\"text\"])"
   ]
  },
  {
   "cell_type": "code",
   "execution_count": 2,
   "metadata": {},
   "outputs": [],
   "source": [
    "with open(\"/home/CS546-CLEO/data/processed_dataset.pickle\", \"rb\") as f:\n",
    "    processed_data = pickle.load(f)\n",
    "df = processed_data[\"df\"]"
   ]
  },
  {
   "cell_type": "code",
   "execution_count": 8,
   "metadata": {},
   "outputs": [],
   "source": [
    "import pandas as pd\n",
    "audio_df = pd.DataFrame({\"wav\": audio_list, \"text\": txt_list})\n",
    "df = df.merge(audio_df, on=\"text\", how=\"inner\")"
   ]
  },
  {
   "cell_type": "code",
   "execution_count": 6,
   "metadata": {},
   "outputs": [],
   "source": [
    "for each_file in tmp_files:\n",
    "    os.remove(each_file)"
   ]
  },
  {
   "cell_type": "code",
   "execution_count": 10,
   "metadata": {},
   "outputs": [],
   "source": [
    "from datasets import Dataset\n",
    "processed_dataset = Dataset.from_pandas(df)"
   ]
  },
  {
   "cell_type": "code",
   "execution_count": 13,
   "metadata": {},
   "outputs": [
    {
     "data": {
      "application/vnd.jupyter.widget-view+json": {
       "model_id": "810ae6611859481fa378a3c7383ff8fa",
       "version_major": 2,
       "version_minor": 0
      },
      "text/plain": [
       "Saving the dataset (0/1 shards):   0%|          | 0/80 [00:00<?, ? examples/s]"
      ]
     },
     "metadata": {},
     "output_type": "display_data"
    }
   ],
   "source": [
    "processed_dataset.save_to_disk(\"/home/CS546-CLEO/data/processed_dataset\")"
   ]
  },
  {
   "cell_type": "code",
   "execution_count": 15,
   "metadata": {},
   "outputs": [],
   "source": [
    "from datasets import load_from_disk\n",
    "\n",
    "processed_dataset = load_from_disk(\"/home/CS546-CLEO/data/processed_dataset\")"
   ]
  },
  {
   "cell_type": "code",
   "execution_count": 20,
   "metadata": {},
   "outputs": [
    {
     "data": {
      "text/html": [
       "<div>\n",
       "<style scoped>\n",
       "    .dataframe tbody tr th:only-of-type {\n",
       "        vertical-align: middle;\n",
       "    }\n",
       "\n",
       "    .dataframe tbody tr th {\n",
       "        vertical-align: top;\n",
       "    }\n",
       "\n",
       "    .dataframe thead th {\n",
       "        text-align: right;\n",
       "    }\n",
       "</style>\n",
       "<table border=\"1\" class=\"dataframe\">\n",
       "  <thead>\n",
       "    <tr style=\"text-align: right;\">\n",
       "      <th></th>\n",
       "      <th>eid</th>\n",
       "      <th>graph</th>\n",
       "      <th>text</th>\n",
       "      <th>wav</th>\n",
       "    </tr>\n",
       "  </thead>\n",
       "  <tbody>\n",
       "    <tr>\n",
       "      <th>0</th>\n",
       "      <td>Id1</td>\n",
       "      <td>{'data': [], 'directed': False, 'elements': {'...</td>\n",
       "      <td>The Aarhus is the airport of Aarhus, Denmark.</td>\n",
       "      <td>{'audio': [0.0013169994, 0.0008414648, 0.00102...</td>\n",
       "    </tr>\n",
       "    <tr>\n",
       "      <th>1</th>\n",
       "      <td>Id1</td>\n",
       "      <td>{'data': [], 'directed': False, 'elements': {'...</td>\n",
       "      <td>Aarhus Airport serves the city of Aarhus, Denm...</td>\n",
       "      <td>{'audio': [0.0009158152, 0.00080315955, 0.0007...</td>\n",
       "    </tr>\n",
       "    <tr>\n",
       "      <th>2</th>\n",
       "      <td>Id2</td>\n",
       "      <td>{'data': [], 'directed': False, 'elements': {'...</td>\n",
       "      <td>Aarhus airport serves the city of Aarhus.</td>\n",
       "      <td>{'audio': [-0.04144665, -0.044604544, -0.04439...</td>\n",
       "    </tr>\n",
       "    <tr>\n",
       "      <th>3</th>\n",
       "      <td>Id3</td>\n",
       "      <td>{'data': [], 'directed': False, 'elements': {'...</td>\n",
       "      <td>Aarhus Airport is 25 metres above sea level.</td>\n",
       "      <td>{'audio': [1.691666e-05, -0.000120812096, 0.00...</td>\n",
       "    </tr>\n",
       "    <tr>\n",
       "      <th>4</th>\n",
       "      <td>Id3</td>\n",
       "      <td>{'data': [], 'directed': False, 'elements': {'...</td>\n",
       "      <td>Aarhus airport is at an elevation of 25 metres...</td>\n",
       "      <td>{'audio': [0.008753816, 0.0075816633, 0.006622...</td>\n",
       "    </tr>\n",
       "    <tr>\n",
       "      <th>...</th>\n",
       "      <td>...</td>\n",
       "      <td>...</td>\n",
       "      <td>...</td>\n",
       "      <td>...</td>\n",
       "    </tr>\n",
       "    <tr>\n",
       "      <th>195</th>\n",
       "      <td>Id81</td>\n",
       "      <td>{'data': [], 'directed': False, 'elements': {'...</td>\n",
       "      <td>The Alderney Airport elevation above the sea l...</td>\n",
       "      <td>{'audio': [0.0007371929, 0.00031506407, 0.0004...</td>\n",
       "    </tr>\n",
       "    <tr>\n",
       "      <th>196</th>\n",
       "      <td>Id82</td>\n",
       "      <td>{'data': [], 'directed': False, 'elements': {'...</td>\n",
       "      <td>Alderney Airport has a runway length of 497.0.</td>\n",
       "      <td>{'audio': [0.0004782201, -6.468003e-05, 0.0001...</td>\n",
       "    </tr>\n",
       "    <tr>\n",
       "      <th>197</th>\n",
       "      <td>Id82</td>\n",
       "      <td>{'data': [], 'directed': False, 'elements': {'...</td>\n",
       "      <td>The runway length of Alderney Airport is 497.0.</td>\n",
       "      <td>{'audio': [-0.0128557645, -0.012591194, -0.013...</td>\n",
       "    </tr>\n",
       "    <tr>\n",
       "      <th>198</th>\n",
       "      <td>Id83</td>\n",
       "      <td>{'data': [], 'directed': False, 'elements': {'...</td>\n",
       "      <td>The Alderney Airport runway has a length of 73...</td>\n",
       "      <td>{'audio': [0.0007543769, 0.00026334112, 0.0002...</td>\n",
       "    </tr>\n",
       "    <tr>\n",
       "      <th>199</th>\n",
       "      <td>Id84</td>\n",
       "      <td>{'data': [], 'directed': False, 'elements': {'...</td>\n",
       "      <td>The runway length of Alderney Airport is 877.</td>\n",
       "      <td>{'audio': [0.006787572, 0.0062440746, 0.008262...</td>\n",
       "    </tr>\n",
       "  </tbody>\n",
       "</table>\n",
       "<p>200 rows × 4 columns</p>\n",
       "</div>"
      ],
      "text/plain": [
       "      eid                                              graph  \\\n",
       "0     Id1  {'data': [], 'directed': False, 'elements': {'...   \n",
       "1     Id1  {'data': [], 'directed': False, 'elements': {'...   \n",
       "2     Id2  {'data': [], 'directed': False, 'elements': {'...   \n",
       "3     Id3  {'data': [], 'directed': False, 'elements': {'...   \n",
       "4     Id3  {'data': [], 'directed': False, 'elements': {'...   \n",
       "..    ...                                                ...   \n",
       "195  Id81  {'data': [], 'directed': False, 'elements': {'...   \n",
       "196  Id82  {'data': [], 'directed': False, 'elements': {'...   \n",
       "197  Id82  {'data': [], 'directed': False, 'elements': {'...   \n",
       "198  Id83  {'data': [], 'directed': False, 'elements': {'...   \n",
       "199  Id84  {'data': [], 'directed': False, 'elements': {'...   \n",
       "\n",
       "                                                  text  \\\n",
       "0        The Aarhus is the airport of Aarhus, Denmark.   \n",
       "1    Aarhus Airport serves the city of Aarhus, Denm...   \n",
       "2            Aarhus airport serves the city of Aarhus.   \n",
       "3         Aarhus Airport is 25 metres above sea level.   \n",
       "4    Aarhus airport is at an elevation of 25 metres...   \n",
       "..                                                 ...   \n",
       "195  The Alderney Airport elevation above the sea l...   \n",
       "196     Alderney Airport has a runway length of 497.0.   \n",
       "197    The runway length of Alderney Airport is 497.0.   \n",
       "198  The Alderney Airport runway has a length of 73...   \n",
       "199      The runway length of Alderney Airport is 877.   \n",
       "\n",
       "                                                   wav  \n",
       "0    {'audio': [0.0013169994, 0.0008414648, 0.00102...  \n",
       "1    {'audio': [0.0009158152, 0.00080315955, 0.0007...  \n",
       "2    {'audio': [-0.04144665, -0.044604544, -0.04439...  \n",
       "3    {'audio': [1.691666e-05, -0.000120812096, 0.00...  \n",
       "4    {'audio': [0.008753816, 0.0075816633, 0.006622...  \n",
       "..                                                 ...  \n",
       "195  {'audio': [0.0007371929, 0.00031506407, 0.0004...  \n",
       "196  {'audio': [0.0004782201, -6.468003e-05, 0.0001...  \n",
       "197  {'audio': [-0.0128557645, -0.012591194, -0.013...  \n",
       "198  {'audio': [0.0007543769, 0.00026334112, 0.0002...  \n",
       "199  {'audio': [0.006787572, 0.0062440746, 0.008262...  \n",
       "\n",
       "[200 rows x 4 columns]"
      ]
     },
     "execution_count": 20,
     "metadata": {},
     "output_type": "execute_result"
    }
   ],
   "source": [
    "processed_dataset.to_pandas()#[\"text\"]#.nunique()"
   ]
  },
  {
   "cell_type": "code",
   "execution_count": null,
   "metadata": {},
   "outputs": [],
   "source": []
  }
 ],
 "metadata": {
  "kernelspec": {
   "display_name": "cleo",
   "language": "python",
   "name": "python3"
  },
  "language_info": {
   "codemirror_mode": {
    "name": "ipython",
    "version": 3
   },
   "file_extension": ".py",
   "mimetype": "text/x-python",
   "name": "python",
   "nbconvert_exporter": "python",
   "pygments_lexer": "ipython3",
   "version": "3.10.11"
  }
 },
 "nbformat": 4,
 "nbformat_minor": 2
}
