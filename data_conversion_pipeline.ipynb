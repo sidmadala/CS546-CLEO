{
 "cells": [
  {
   "cell_type": "code",
   "execution_count": null,
   "metadata": {},
   "outputs": [],
   "source": [
    "from datasets import load_dataset\n",
    "import networkx as nx\n",
    "import tqdm\n",
    "import IPython.display as ipd\n",
    "\n",
    "webNLG_dataset = load_dataset(\"web_nlg\", \"webnlg_challenge_2017\")"
   ]
  },
  {
   "cell_type": "code",
   "execution_count": null,
   "metadata": {},
   "outputs": [],
   "source": [
    "## Converting tripple set to a graph\n",
    "def generate_graph_for_tripple_set(tripple_set):\n",
    "    G = nx.Graph()\n",
    "    for tripple in tripple_set:\n",
    "        tripple = tripple.split(\" | \")\n",
    "        ## check if node is in G\n",
    "        if tripple[0] not in G.nodes:\n",
    "            G.add_node(tripple[0])\n",
    "        if tripple[1] not in G.nodes:\n",
    "            G.add_node(tripple[1])\n",
    "        if tripple[2] not in G.nodes:\n",
    "            G.add_node(tripple[2])\n",
    "        ## Add edge between nodes\n",
    "        G.add_edge(tripple[0], tripple[1])\n",
    "        G.add_edge(tripple[1], tripple[2])\n",
    "    return nx.cytoscape_data(G)\n",
    "\n",
    "## Printing function for each\n",
    "def print_details(idx):\n",
    "    print(\"EID: \", eid_list[idx])\n",
    "    for idx, text in enumerate(text_list[idx]):\n",
    "        print(f\"Option {idx}: {text}\\n\")\n",
    "    \n",
    "    print(\"Graph Visual:\")\n",
    "    nx.draw(nx.cytoscape_graph(graph_list[idx]),with_labels=True, font_size=8)\n",
    "    \n",
    "G = generate_graph_for_tripple_set(webNLG_dataset[\"train\"][0][\"modified_triple_sets\"][\"mtriple_set\"][0])\n",
    "\n",
    "## Iterate through all the triple sets and generate graphs\n",
    "eid_list = []\n",
    "graph_list = []\n",
    "text_list = []\n",
    "wav_list = []\n",
    "\n",
    "for each in tqdm.tqdm(webNLG_dataset[\"train\"]):\n",
    "    eid_list.append(each[\"eid\"])\n",
    "    text_list.append(each[\"lex\"][\"text\"])\n",
    "    ## Create the WAV file:\n",
    "#    each_wav_list = []\n",
    "#    for each_text in each[\"lex\"][\"text\"]:\n",
    "#        each_wav_list.append(generate_audio_content(each_text))\n",
    "#    wav_list.append(each_wav_list)\n",
    "    G = generate_graph_for_tripple_set(each[\"modified_triple_sets\"][\"mtriple_set\"][0])\n",
    "    graph_list.append(G)\n",
    "\n",
    "## Save the data\n",
    "import pickle\n",
    "with open(\"webNLG_data.pickle\", \"wb\") as f:\n",
    "    pickle.dump({\"eid_list\": eid_list, \"graph_list\": graph_list, \"text_list\": text_list, \"wav_list\": wav_list}, f)\n"
   ]
  },
  {
   "cell_type": "code",
   "execution_count": null,
   "metadata": {},
   "outputs": [],
   "source": [
    "import pandas as pd\n",
    "df = pd.DataFrame({\n",
    "    \"eid\": eid_list,\n",
    "    \"graph\": graph_list,\n",
    "    \"text\": text_list,\n",
    "})\n",
    "\n",
    "df = df.explode('text').reset_index(drop=True)\n",
    "\n"
   ]
  },
  {
   "cell_type": "code",
   "execution_count": null,
   "metadata": {},
   "outputs": [],
   "source": [
    "from accelerate import PartialState  # Can also be Accelerator or AcceleratorState\n",
    "from transformers import pipeline\n",
    "\n",
    "distributed_state = PartialState()\n",
    "pipe = pipeline(\"text-to-speech\", \"suno/bark\", device=distributed_state.device)\n",
    "\n",
    "with distributed_state.split_between_processes(list(df[\"text\"].values)) as prompt:\n",
    "    result = pipe(prompt)\n",
    "\n",
    "df[\"wav\"] = result\n",
    "\n",
    "from datasets import Dataset\n",
    "processed_dataset = Dataset.from_pandas(df)"
   ]
  },
  {
   "cell_type": "code",
   "execution_count": null,
   "metadata": {},
   "outputs": [],
   "source": []
  },
  {
   "cell_type": "code",
   "execution_count": null,
   "metadata": {},
   "outputs": [],
   "source": [
    "processed_dataset.add_column(\"wav\", result)"
   ]
  },
  {
   "cell_type": "code",
   "execution_count": null,
   "metadata": {},
   "outputs": [],
   "source": [
    "from transformers import pipeline\n",
    "\n",
    "synthesizer = pipeline(\"text-to-speech\", \"suno/bark\", device=\"cuda:0\")"
   ]
  },
  {
   "cell_type": "code",
   "execution_count": null,
   "metadata": {},
   "outputs": [],
   "source": [
    "outputs = synthesizer([\"Look I am generating speech in three lines of code!\"])"
   ]
  },
  {
   "cell_type": "code",
   "execution_count": null,
   "metadata": {},
   "outputs": [],
   "source": [
    "import IPython.display as ipd\n",
    "ipd.Audio(outputs[\"audio\"], rate=outputs[\"sampling_rate\"])"
   ]
  },
  {
   "cell_type": "markdown",
   "metadata": {},
   "source": []
  },
  {
   "cell_type": "code",
   "execution_count": 1,
   "metadata": {},
   "outputs": [],
   "source": [
    "## Load all files names in a folder\n",
    "import os\n",
    "\n",
    "def load_all_files_in_folder(folder_path):\n",
    "    file_list = []\n",
    "    for root, dirs, files in os.walk(folder_path):\n",
    "        for file in files:\n",
    "            file_list.append(os.path.join(root, file))\n",
    "    return file_list\n",
    "\n",
    "tmp_files = load_all_files_in_folder(\"data/tmp\")\n",
    "## Load each of the pickle files\n",
    "import pickle\n",
    "audio_list = []\n",
    "txt_list = []\n",
    "for each_file in tmp_files:\n",
    "    with open(each_file, \"rb\") as f:\n",
    "        tmp_dict = pickle.load(f)\n",
    "        audio_list.extend(tmp_dict[\"wav\"])\n",
    "        txt_list.extend(tmp_dict[\"text\"])"
   ]
  },
  {
   "cell_type": "code",
   "execution_count": 2,
   "metadata": {},
   "outputs": [],
   "source": [
    "with open(\"/home/CS546-CLEO/data/processed_dataset.pickle\", \"rb\") as f:\n",
    "    processed_data = pickle.load(f)\n",
    "df = processed_data[\"df\"]"
   ]
  },
  {
   "cell_type": "code",
   "execution_count": 8,
   "metadata": {},
   "outputs": [],
   "source": [
    "import pandas as pd\n",
    "audio_df = pd.DataFrame({\"wav\": audio_list, \"text\": txt_list})\n",
    "df = df.merge(audio_df, on=\"text\", how=\"inner\")"
   ]
  },
  {
   "cell_type": "code",
   "execution_count": 6,
   "metadata": {},
   "outputs": [],
   "source": [
    "for each_file in tmp_files:\n",
    "    os.remove(each_file)"
   ]
  },
  {
   "cell_type": "code",
   "execution_count": 10,
   "metadata": {},
   "outputs": [],
   "source": [
    "from datasets import Dataset\n",
    "processed_dataset = Dataset.from_pandas(df)"
   ]
  },
  {
   "cell_type": "code",
   "execution_count": 13,
   "metadata": {},
   "outputs": [
    {
     "data": {
      "application/vnd.jupyter.widget-view+json": {
       "model_id": "810ae6611859481fa378a3c7383ff8fa",
       "version_major": 2,
       "version_minor": 0
      },
      "text/plain": [
       "Saving the dataset (0/1 shards):   0%|          | 0/80 [00:00<?, ? examples/s]"
      ]
     },
     "metadata": {},
     "output_type": "display_data"
    }
   ],
   "source": [
    "processed_dataset.save_to_disk(\"/home/CS546-CLEO/data/processed_dataset\")"
   ]
  },
  {
   "cell_type": "code",
   "execution_count": null,
   "metadata": {},
   "outputs": [],
   "source": []
  }
 ],
 "metadata": {
  "kernelspec": {
   "display_name": "cleo",
   "language": "python",
   "name": "python3"
  },
  "language_info": {
   "codemirror_mode": {
    "name": "ipython",
    "version": 3
   },
   "file_extension": ".py",
   "mimetype": "text/x-python",
   "name": "python",
   "nbconvert_exporter": "python",
   "pygments_lexer": "ipython3",
   "version": "3.10.11"
  }
 },
 "nbformat": 4,
 "nbformat_minor": 2
}
