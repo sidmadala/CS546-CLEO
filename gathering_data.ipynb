{
 "cells": [
  {
   "cell_type": "code",
   "execution_count": 3,
   "metadata": {},
   "outputs": [
    {
     "name": "stderr",
     "output_type": "stream",
     "text": [
      "Downloading data files: 100%|██████████| 2/2 [00:00<00:00, 2994.86it/s]\n",
      "Downloading data: 100%|██████████| 48.9k/48.9k [00:00<00:00, 1.10MB/s]\n",
      "Downloading data files: 100%|██████████| 4853/4853 [00:00<00:00, 6379.26it/s]\n",
      "Generating train split: 823 examples [00:00, 1781.20 examples/s]"
     ]
    },
    {
     "name": "stdout",
     "output_type": "stream",
     "text": [
      "https://s3.amazonaws.com/bloom-speech/audio/eng-0000-narration12.mp3 failed to download. Data may be missing.\n",
      "https://s3.amazonaws.com/bloom-speech/audio/eng-0000-def83c37-5787-4206-92e8-39fc11ffe921.mp3 failed to download. Data may be missing.\n",
      "https://s3.amazonaws.com/bloom-speech/audio/eng-0000-i05f3cc49-4e45-4d43-893a-acc68937803c.mp3 failed to download. Data may be missing.\n",
      "https://s3.amazonaws.com/bloom-speech/audio/eng-0000-narration7.mp3 failed to download. Data may be missing.\n",
      "https://s3.amazonaws.com/bloom-speech/audio/eng-0000-narration7.mp3 failed to download. Data may be missing.\n",
      "https://s3.amazonaws.com/bloom-speech/audio/eng-0000-narration10.mp3 failed to download. Data may be missing.\n",
      "https://s3.amazonaws.com/bloom-speech/audio/eng-0000-narration5.mp3 failed to download. Data may be missing.\n",
      "https://s3.amazonaws.com/bloom-speech/audio/eng-0000-narration2.mp3 failed to download. Data may be missing.\n",
      "https://s3.amazonaws.com/bloom-speech/audio/eng-0000-narration5.mp3 failed to download. Data may be missing.\n",
      "https://s3.amazonaws.com/bloom-speech/audio/eng-0000-narration7.mp3 failed to download. Data may be missing.\n",
      "https://s3.amazonaws.com/bloom-speech/audio/eng-0000-i1fd02ebf-603f-4227-bd71-2f5f61443651.mp3 failed to download. Data may be missing.\n",
      "https://s3.amazonaws.com/bloom-speech/audio/eng-0000-narration4.mp3 failed to download. Data may be missing.\n",
      "https://s3.amazonaws.com/bloom-speech/audio/eng-0000-i23fc0df4-1dc4-42bf-9fdc-c0ea8718dd6a.mp3 failed to download. Data may be missing.\n"
     ]
    },
    {
     "name": "stderr",
     "output_type": "stream",
     "text": [
      "Generating train split: 1791 examples [00:00, 3234.54 examples/s]"
     ]
    },
    {
     "name": "stdout",
     "output_type": "stream",
     "text": [
      "https://s3.amazonaws.com/bloom-speech/audio/eng-0000-narration1.mp3 failed to download. Data may be missing.\n",
      "https://s3.amazonaws.com/bloom-speech/audio/eng-0000-i2d4a2b7d-74b9-4bb8-a60d-5c425e2497e5.mp3 failed to download. Data may be missing.\n",
      "https://s3.amazonaws.com/bloom-speech/audio/eng-0000-i071320cb-4cc4-48d7-9705-ae6065af3f11.mp3 failed to download. Data may be missing.\n",
      "https://s3.amazonaws.com/bloom-speech/audio/eng-0000-narration15.mp3 failed to download. Data may be missing.\n",
      "https://s3.amazonaws.com/bloom-speech/audio/eng-0000-narration4.mp3 failed to download. Data may be missing.\n",
      "https://s3.amazonaws.com/bloom-speech/audio/eng-0000-narration5.mp3 failed to download. Data may be missing.\n",
      "https://s3.amazonaws.com/bloom-speech/audio/eng-0000-narration10.mp3 failed to download. Data may be missing.\n",
      "https://s3.amazonaws.com/bloom-speech/audio/eng-0000-narration16.mp3 failed to download. Data may be missing.\n",
      "https://s3.amazonaws.com/bloom-speech/audio/eng-0000-i8b0bea89-0014-46ac-9939-297eb7d2cf92.mp3 failed to download. Data may be missing.\n",
      "https://s3.amazonaws.com/bloom-speech/audio/eng-0000-i82ea9ae0-e32a-498c-932f-df0be1de2f42.mp3 failed to download. Data may be missing.\n",
      "https://s3.amazonaws.com/bloom-speech/audio/eng-0000-narration19.mp3 failed to download. Data may be missing.\n",
      "https://s3.amazonaws.com/bloom-speech/audio/eng-0000-narration1.mp3 failed to download. Data may be missing.\n",
      "https://s3.amazonaws.com/bloom-speech/audio/eng-0000-i99f5b82a-6bad-492e-8149-cc5d1b25e3b0.mp3 failed to download. Data may be missing.\n",
      "https://s3.amazonaws.com/bloom-speech/audio/eng-0000-i7072fe92-947c-4da4-bc43-22b646c83e60.mp3 failed to download. Data may be missing.\n",
      "https://s3.amazonaws.com/bloom-speech/audio/eng-0000-b1abf086-d843-4143-9865-d1e5650a6bd3.mp3 failed to download. Data may be missing.\n",
      "https://s3.amazonaws.com/bloom-speech/audio/eng-0000-narration4.mp3 failed to download. Data may be missing.\n",
      "https://s3.amazonaws.com/bloom-speech/audio/eng-0000-narration10.mp3 failed to download. Data may be missing.\n",
      "https://s3.amazonaws.com/bloom-speech/audio/eng-0000-f71dcbcd-44d7-49ac-97e0-8d1bc66b9b6c.mp3 failed to download. Data may be missing.\n",
      "https://s3.amazonaws.com/bloom-speech/audio/eng-0000-narration10.mp3 failed to download. Data may be missing.\n",
      "https://s3.amazonaws.com/bloom-speech/audio/eng-0000-b5c796c4-896d-40a1-a4b8-4fd89479f387.mp3 failed to download. Data may be missing.\n",
      "https://s3.amazonaws.com/bloom-speech/audio/eng-0000-narration6.mp3 failed to download. Data may be missing.\n",
      "https://s3.amazonaws.com/bloom-speech/audio/eng-0000-d230cd34-c08a-439c-9f78-7a1dc98cf76f.mp3 failed to download. Data may be missing.\n",
      "https://s3.amazonaws.com/bloom-speech/audio/eng-0000-ff418ed1-18e4-4485-80c5-0de7615fd67b.mp3 failed to download. Data may be missing.\n",
      "https://s3.amazonaws.com/bloom-speech/audio/eng-0000-narration3.mp3 failed to download. Data may be missing.\n",
      "https://s3.amazonaws.com/bloom-speech/audio/eng-0000-narration7.mp3 failed to download. Data may be missing.\n",
      "https://s3.amazonaws.com/bloom-speech/audio/eng-0000-def83c37-5787-4206-92e8-39fc11ffe921.mp3 failed to download. Data may be missing.\n",
      "https://s3.amazonaws.com/bloom-speech/audio/eng-0000-narration12.mp3 failed to download. Data may be missing.\n",
      "https://s3.amazonaws.com/bloom-speech/audio/eng-0000-e95cf653-496f-4292-b967-d7675da47087.mp3 failed to download. Data may be missing.\n",
      "https://s3.amazonaws.com/bloom-speech/audio/eng-0000-narration8.mp3 failed to download. Data may be missing.\n",
      "https://s3.amazonaws.com/bloom-speech/audio/eng-0000-narration15.mp3 failed to download. Data may be missing.\n",
      "https://s3.amazonaws.com/bloom-speech/audio/eng-0000-d458c3de-129d-4de4-8644-2d4ea0277193.mp3 failed to download. Data may be missing.\n",
      "https://s3.amazonaws.com/bloom-speech/audio/eng-0000-narration19.mp3 failed to download. Data may be missing.\n",
      "https://s3.amazonaws.com/bloom-speech/audio/eng-0000-i2b71180f-57f8-45bf-b593-02d0e34d9b12.mp3 failed to download. Data may be missing.\n",
      "https://s3.amazonaws.com/bloom-speech/audio/eng-0000-narration8.mp3 failed to download. Data may be missing.\n",
      "https://s3.amazonaws.com/bloom-speech/audio/eng-0000-i2df93329-3183-4c1f-b7d4-0982d5e6b6bc.mp3 failed to download. Data may be missing.\n",
      "https://s3.amazonaws.com/bloom-speech/audio/eng-0000-narration13.mp3 failed to download. Data may be missing.\n",
      "https://s3.amazonaws.com/bloom-speech/audio/eng-0000-d86fc63a-a931-4a21-9b59-f62bdefe8596.mp3 failed to download. Data may be missing.\n",
      "https://s3.amazonaws.com/bloom-speech/audio/eng-0000-i2446380b-79f3-41f6-b4cb-6aadcf740b12.mp3 failed to download. Data may be missing.\n",
      "https://s3.amazonaws.com/bloom-speech/audio/eng-0000-narration14.mp3 failed to download. Data may be missing.\n",
      "https://s3.amazonaws.com/bloom-speech/audio/eng-0000-i2728db32-bc01-42f5-a7b2-7eb63a1fbfb9.mp3 failed to download. Data may be missing.\n",
      "https://s3.amazonaws.com/bloom-speech/audio/eng-0000-i79fa230b-8314-4f1c-9ea7-f458ca897da5.mp3 failed to download. Data may be missing.\n",
      "https://s3.amazonaws.com/bloom-speech/audio/eng-0000-i3a8532d7-e872-4146-b0e1-c23dce864bd7.mp3 failed to download. Data may be missing.\n"
     ]
    },
    {
     "name": "stderr",
     "output_type": "stream",
     "text": [
      "Generating train split: 3086 examples [00:01, 4782.95 examples/s]"
     ]
    },
    {
     "name": "stdout",
     "output_type": "stream",
     "text": [
      "https://s3.amazonaws.com/bloom-speech/audio/eng-0000-def83c37-5787-4206-92e8-39fc11ffe921.mp3 failed to download. Data may be missing.\n",
      "https://s3.amazonaws.com/bloom-speech/audio/eng-0000-a592ad77-50a4-4440-8b10-ef7e55befe72.mp3 failed to download. Data may be missing.\n",
      "https://s3.amazonaws.com/bloom-speech/audio/eng-0000-fdc0a61e-324b-48c6-83af-fa314b2f6ec1.mp3 failed to download. Data may be missing.\n",
      "https://s3.amazonaws.com/bloom-speech/audio/eng-0000-dfaa7655-84b2-4cd3-8123-664136c89281.mp3 failed to download. Data may be missing.\n",
      "https://s3.amazonaws.com/bloom-speech/audio/eng-0000-narration11.mp3 failed to download. Data may be missing.\n",
      "https://s3.amazonaws.com/bloom-speech/audio/eng-0000-i5751c466-1561-4e5b-a855-6c4317d3f603.mp3 failed to download. Data may be missing.\n",
      "https://s3.amazonaws.com/bloom-speech/audio/eng-0000-i3c58b4ea-8c7a-4115-9740-33e788087c51.mp3 failed to download. Data may be missing.\n",
      "https://s3.amazonaws.com/bloom-speech/audio/eng-0000-narration6.mp3 failed to download. Data may be missing.\n",
      "https://s3.amazonaws.com/bloom-speech/audio/eng-0000-i2317a961-130f-4f69-a8d2-e50a0b63a856.mp3 failed to download. Data may be missing.\n",
      "https://s3.amazonaws.com/bloom-speech/audio/eng-0000-narration2.mp3 failed to download. Data may be missing.\n",
      "https://s3.amazonaws.com/bloom-speech/audio/eng-0000-narration5.mp3 failed to download. Data may be missing.\n",
      "https://s3.amazonaws.com/bloom-speech/audio/eng-0000-f42087d3-c668-4448-8ff8-420e5272fa0b.mp3 failed to download. Data may be missing.\n",
      "https://s3.amazonaws.com/bloom-speech/audio/eng-0000-c7b804de-7e19-49c7-80cd-3257674a9f2d.mp3 failed to download. Data may be missing.\n",
      "https://s3.amazonaws.com/bloom-speech/audio/eng-0000-narration4.mp3 failed to download. Data may be missing.\n",
      "https://s3.amazonaws.com/bloom-speech/audio/eng-0000-narration9.mp3 failed to download. Data may be missing.\n",
      "https://s3.amazonaws.com/bloom-speech/audio/eng-0000-narration5.mp3 failed to download. Data may be missing.\n",
      "https://s3.amazonaws.com/bloom-speech/audio/eng-0000-i0d8b7365-a3e9-4952-a375-cbad00cc3bce.mp3 failed to download. Data may be missing.\n",
      "https://s3.amazonaws.com/bloom-speech/audio/eng-0000-dd4d5363-79a7-4e3f-9cb5-350df62417f4.mp3 failed to download. Data may be missing.\n",
      "https://s3.amazonaws.com/bloom-speech/audio/eng-0000-i548a2b16-fa97-4918-bde8-a0c58f7bb972.mp3 failed to download. Data may be missing.\n",
      "https://s3.amazonaws.com/bloom-speech/audio/eng-0000-i3d8102af-afda-46dd-afe8-59daeac2026a.mp3 failed to download. Data may be missing.\n",
      "https://s3.amazonaws.com/bloom-speech/audio/eng-0000-i5fbfa6f6-2837-4940-bcc6-dbba46fc25cb.mp3 failed to download. Data may be missing.\n",
      "https://s3.amazonaws.com/bloom-speech/audio/eng-0000-i17f77f62-ac0b-4eee-aac7-48e62a04dc25.mp3 failed to download. Data may be missing.\n",
      "https://s3.amazonaws.com/bloom-speech/audio/eng-0000-i07d27e74-f55e-4adf-b09e-16c3aae93789.mp3 failed to download. Data may be missing.\n",
      "https://s3.amazonaws.com/bloom-speech/audio/eng-0000-narration13.mp3 failed to download. Data may be missing.\n",
      "https://s3.amazonaws.com/bloom-speech/audio/eng-0000-narration2.mp3 failed to download. Data may be missing.\n",
      "https://s3.amazonaws.com/bloom-speech/audio/eng-0000-narration4.mp3 failed to download. Data may be missing.\n",
      "https://s3.amazonaws.com/bloom-speech/audio/eng-0000-narration17.mp3 failed to download. Data may be missing.\n",
      "https://s3.amazonaws.com/bloom-speech/audio/eng-0000-def83c37-5787-4206-92e8-39fc11ffe921.mp3 failed to download. Data may be missing.\n",
      "https://s3.amazonaws.com/bloom-speech/audio/eng-0000-i2a39922c-fd63-4c12-bddb-d2d5d305895d.mp3 failed to download. Data may be missing.\n",
      "https://s3.amazonaws.com/bloom-speech/audio/eng-0000-narration3.mp3 failed to download. Data may be missing.\n",
      "https://s3.amazonaws.com/bloom-speech/audio/eng-0000-b2ee9a5e-44c4-4be5-81f4-d2a400c2d3a0.mp3 failed to download. Data may be missing.\n",
      "https://s3.amazonaws.com/bloom-speech/audio/eng-0000-narration11.mp3 failed to download. Data may be missing.\n",
      "https://s3.amazonaws.com/bloom-speech/audio/eng-0000-narration5.mp3 failed to download. Data may be missing.\n",
      "https://s3.amazonaws.com/bloom-speech/audio/eng-0000-narration1.mp3 failed to download. Data may be missing.\n",
      "https://s3.amazonaws.com/bloom-speech/audio/eng-0000-i7321c4de-8d30-4a91-9604-c78cf3f6a507.mp3 failed to download. Data may be missing.\n",
      "https://s3.amazonaws.com/bloom-speech/audio/eng-0000-fb2d84a7-d7e6-4d3f-a5e5-3c338260f270.mp3 failed to download. Data may be missing.\n",
      "https://s3.amazonaws.com/bloom-speech/audio/eng-0000-i19a23556-a6bb-4d09-85fb-7416e939bc70.mp3 failed to download. Data may be missing.\n",
      "https://s3.amazonaws.com/bloom-speech/audio/eng-0000-eaf167f2-20f5-4ea1-8d2d-ca4cea041177.mp3 failed to download. Data may be missing.\n",
      "https://s3.amazonaws.com/bloom-speech/audio/eng-0000-abdc7ec0-d203-467e-9935-9a2eefb470e2.mp3 failed to download. Data may be missing.\n",
      "https://s3.amazonaws.com/bloom-speech/audio/eng-0000-narration17.mp3 failed to download. Data may be missing.\n",
      "https://s3.amazonaws.com/bloom-speech/audio/eng-0000-i4e33a98f-74dc-4942-8f85-82fe75311b33.mp3 failed to download. Data may be missing.\n",
      "https://s3.amazonaws.com/bloom-speech/audio/eng-0000-bb920d21-359f-47e4-b815-501013211dc2.mp3 failed to download. Data may be missing.\n",
      "https://s3.amazonaws.com/bloom-speech/audio/eng-0000-i96ff891b-f8d1-4080-95b4-240fbd76bc6e.mp3 failed to download. Data may be missing.\n",
      "https://s3.amazonaws.com/bloom-speech/audio/eng-0000-narration11.mp3 failed to download. Data may be missing.\n",
      "https://s3.amazonaws.com/bloom-speech/audio/eng-0000-c52a7f2f-42a8-4356-9cb5-1f380e2631e7.mp3 failed to download. Data may be missing.\n",
      "https://s3.amazonaws.com/bloom-speech/audio/eng-0000-i1cb59349-f031-4345-bc72-7df5d2371c3b.mp3 failed to download. Data may be missing.\n",
      "https://s3.amazonaws.com/bloom-speech/audio/eng-0000-i6bbc160f-870c-4e47-9092-257b760e1fce.mp3 failed to download. Data may be missing.\n",
      "https://s3.amazonaws.com/bloom-speech/audio/eng-0000-narration16.mp3 failed to download. Data may be missing.\n",
      "https://s3.amazonaws.com/bloom-speech/audio/eng-0000-narration14.mp3 failed to download. Data may be missing.\n",
      "https://s3.amazonaws.com/bloom-speech/audio/eng-0000-narration1.mp3 failed to download. Data may be missing.\n",
      "https://s3.amazonaws.com/bloom-speech/audio/eng-0000-c58b0416-be65-4286-bb46-2ba9669ca141.mp3 failed to download. Data may be missing.\n",
      "https://s3.amazonaws.com/bloom-speech/audio/eng-0000-i72a6487b-d453-4a2a-9426-6090e34e85a6.mp3 failed to download. Data may be missing.\n",
      "https://s3.amazonaws.com/bloom-speech/audio/eng-0000-i45b6eaa1-5096-4276-bda2-481656c33120.mp3 failed to download. Data may be missing.\n",
      "https://s3.amazonaws.com/bloom-speech/audio/eng-0000-narration18.mp3 failed to download. Data may be missing.\n",
      "https://s3.amazonaws.com/bloom-speech/audio/eng-0000-narration14.mp3 failed to download. Data may be missing.\n",
      "https://s3.amazonaws.com/bloom-speech/audio/eng-0000-narration2.mp3 failed to download. Data may be missing.\n",
      "https://s3.amazonaws.com/bloom-speech/audio/eng-0000-i505a0aba-0377-4f0d-920a-54439395ee0f.mp3 failed to download. Data may be missing.\n",
      "https://s3.amazonaws.com/bloom-speech/audio/eng-0000-bc85c200-fe66-47ef-ac2a-a2904070a024.mp3 failed to download. Data may be missing.\n",
      "https://s3.amazonaws.com/bloom-speech/audio/eng-0000-i9ff200b1-6539-43ea-91e0-9dfa36f77c9e.mp3 failed to download. Data may be missing.\n",
      "https://s3.amazonaws.com/bloom-speech/audio/eng-0000-narration6.mp3 failed to download. Data may be missing.\n",
      "https://s3.amazonaws.com/bloom-speech/audio/eng-0000-narration4.mp3 failed to download. Data may be missing.\n",
      "https://s3.amazonaws.com/bloom-speech/audio/eng-0000-narration8.mp3 failed to download. Data may be missing.\n",
      "https://s3.amazonaws.com/bloom-speech/audio/eng-0000-i62e4501a-17cb-4080-9e6f-41c1c36567a8.mp3 failed to download. Data may be missing.\n",
      "https://s3.amazonaws.com/bloom-speech/audio/eng-0000-i0aeb305d-ec0d-49fd-b256-114525237e50.mp3 failed to download. Data may be missing.\n",
      "https://s3.amazonaws.com/bloom-speech/audio/eng-0000-c9f18594-07ac-4c0a-9f4e-db686dfafb9e.mp3 failed to download. Data may be missing.\n",
      "https://s3.amazonaws.com/bloom-speech/audio/eng-0000-d61be601-5d84-460c-9aa0-77002cda427d.mp3 failed to download. Data may be missing.\n",
      "https://s3.amazonaws.com/bloom-speech/audio/eng-0000-narration8.mp3 failed to download. Data may be missing.\n",
      "https://s3.amazonaws.com/bloom-speech/audio/eng-0000-narration3.mp3 failed to download. Data may be missing.\n",
      "https://s3.amazonaws.com/bloom-speech/audio/eng-0000-a8fde84c-9ce1-4fba-ade9-1eab02001aef.mp3 failed to download. Data may be missing.\n",
      "https://s3.amazonaws.com/bloom-speech/audio/eng-0000-i60feb9d9-0a5f-4c19-b7fe-34f6c574782b.mp3 failed to download. Data may be missing.\n",
      "https://s3.amazonaws.com/bloom-speech/audio/eng-0000-i9816caba-2b70-48e9-aedf-c031af60925e.mp3 failed to download. Data may be missing.\n",
      "https://s3.amazonaws.com/bloom-speech/audio/eng-0000-c84f6e68-bae7-4b04-801e-1b9d8a5f35a8.mp3 failed to download. Data may be missing.\n",
      "https://s3.amazonaws.com/bloom-speech/audio/eng-0000-i35ad1aeb-2f8e-49c1-8db7-f34c207343c8.mp3 failed to download. Data may be missing.\n",
      "https://s3.amazonaws.com/bloom-speech/audio/eng-0000-c0d2f9f5-412f-4b11-82f3-297b552aae59.mp3 failed to download. Data may be missing.\n",
      "https://s3.amazonaws.com/bloom-speech/audio/eng-0000-i9e9f9a1d-e8c5-41fe-9305-e1453b4d09ee.mp3 failed to download. Data may be missing.\n",
      "https://s3.amazonaws.com/bloom-speech/audio/eng-0000-a4b73a5c-1124-4844-9615-5f81c3ca0d96.mp3 failed to download. Data may be missing.\n",
      "https://s3.amazonaws.com/bloom-speech/audio/eng-0000-narration15.mp3 failed to download. Data may be missing.\n",
      "https://s3.amazonaws.com/bloom-speech/audio/eng-0000-i33692f99-590b-4aae-9be2-121133174d31.mp3 failed to download. Data may be missing.\n",
      "https://s3.amazonaws.com/bloom-speech/audio/eng-0000-i1efba21e-872f-4a66-9218-ae7d6a5886e7.mp3 failed to download. Data may be missing.\n",
      "https://s3.amazonaws.com/bloom-speech/audio/eng-0000-i0f57c9f9-e77c-4c18-8a41-3568da891743.mp3 failed to download. Data may be missing.\n",
      "https://s3.amazonaws.com/bloom-speech/audio/eng-0000-i0dbf399a-065e-4344-9606-f1c696c0c5b4.mp3 failed to download. Data may be missing.\n",
      "https://s3.amazonaws.com/bloom-speech/audio/eng-0000-narration14.mp3 failed to download. Data may be missing.\n",
      "https://s3.amazonaws.com/bloom-speech/audio/eng-0000-narration3.mp3 failed to download. Data may be missing.\n",
      "https://s3.amazonaws.com/bloom-speech/audio/eng-0000-i023711be-1192-4636-9286-641c30219aa8.mp3 failed to download. Data may be missing.\n"
     ]
    },
    {
     "name": "stderr",
     "output_type": "stream",
     "text": [
      "Generating train split: 4143 examples [00:01, 3408.62 examples/s]\n"
     ]
    },
    {
     "name": "stdout",
     "output_type": "stream",
     "text": [
      "https://s3.amazonaws.com/bloom-speech/audio/eng-0000-narration8.mp3 failed to download. Data may be missing.\n",
      "https://s3.amazonaws.com/bloom-speech/audio/eng-0000-ee48d90c-2f8d-449e-a8e6-ef7c81f3c0cc.mp3 failed to download. Data may be missing.\n",
      "https://s3.amazonaws.com/bloom-speech/audio/eng-0000-i4694b2aa-f9e1-4896-a6d2-61a14693044f.mp3 failed to download. Data may be missing.\n",
      "https://s3.amazonaws.com/bloom-speech/audio/eng-0000-narration13.mp3 failed to download. Data may be missing.\n",
      "https://s3.amazonaws.com/bloom-speech/audio/eng-0000-ee48d90c-2f8d-449e-a8e6-ef7c81f3c0cc.mp3 failed to download. Data may be missing.\n",
      "https://s3.amazonaws.com/bloom-speech/audio/eng-0000-narration6.mp3 failed to download. Data may be missing.\n",
      "https://s3.amazonaws.com/bloom-speech/audio/eng-0000-i5272f538-c0c9-4469-b659-89b6fcee93da.mp3 failed to download. Data may be missing.\n",
      "https://s3.amazonaws.com/bloom-speech/audio/eng-0000-narration11.mp3 failed to download. Data may be missing.\n",
      "https://s3.amazonaws.com/bloom-speech/audio/eng-0000-c172d117-81ab-42be-966f-7061f4328ee2.mp3 failed to download. Data may be missing.\n",
      "https://s3.amazonaws.com/bloom-speech/audio/eng-0000-narration1.mp3 failed to download. Data may be missing.\n",
      "https://s3.amazonaws.com/bloom-speech/audio/eng-0000-i4b990e45-5955-4ac8-b67a-62e12a0a3d81.mp3 failed to download. Data may be missing.\n",
      "https://s3.amazonaws.com/bloom-speech/audio/eng-0000-a1ea949d-df8d-43f9-abbf-b7d4c834f048.mp3 failed to download. Data may be missing.\n",
      "https://s3.amazonaws.com/bloom-speech/audio/eng-0000-ec7b7a04-6403-458c-9d92-2219b0b71be9.mp3 failed to download. Data may be missing.\n",
      "https://s3.amazonaws.com/bloom-speech/audio/eng-0000-narration4.mp3 failed to download. Data may be missing.\n",
      "https://s3.amazonaws.com/bloom-speech/audio/eng-0000-narration1.mp3 failed to download. Data may be missing.\n",
      "https://s3.amazonaws.com/bloom-speech/audio/eng-0000-i071320cb-4cc4-48d7-9705-ae6065af3f11.mp3 failed to download. Data may be missing.\n",
      "https://s3.amazonaws.com/bloom-speech/audio/eng-0000-bc1c461f-c61d-4e2c-a917-044a78ac711d.mp3 failed to download. Data may be missing.\n",
      "https://s3.amazonaws.com/bloom-speech/audio/eng-0000-cff693a5-bdea-420d-8538-7b285988d5a6.mp3 failed to download. Data may be missing.\n",
      "https://s3.amazonaws.com/bloom-speech/audio/eng-0000-i0f0b2d2e-5af5-4a4c-86a9-bb5c2ed50e50.mp3 failed to download. Data may be missing.\n",
      "https://s3.amazonaws.com/bloom-speech/audio/eng-0000-b7d9aa26-57f4-4ef6-9d37-7ea61739f3f4.mp3 failed to download. Data may be missing.\n",
      "https://s3.amazonaws.com/bloom-speech/audio/eng-0000-narration9.mp3 failed to download. Data may be missing.\n",
      "https://s3.amazonaws.com/bloom-speech/audio/eng-0000-i72a6487b-d453-4a2a-9426-6090e34e85a6.mp3 failed to download. Data may be missing.\n",
      "https://s3.amazonaws.com/bloom-speech/audio/eng-0000-b424d134-b564-4f87-bdb1-e16ee5319a61.mp3 failed to download. Data may be missing.\n",
      "https://s3.amazonaws.com/bloom-speech/audio/eng-0000-i1239b2c8-3b99-456a-bca5-fceb13f6f76e.mp3 failed to download. Data may be missing.\n",
      "https://s3.amazonaws.com/bloom-speech/audio/eng-0000-i3dbd8d2e-21be-41a2-8abd-b57b3993355a.mp3 failed to download. Data may be missing.\n",
      "https://s3.amazonaws.com/bloom-speech/audio/eng-0000-narration3.mp3 failed to download. Data may be missing.\n",
      "https://s3.amazonaws.com/bloom-speech/audio/eng-0000-narration13.mp3 failed to download. Data may be missing.\n",
      "https://s3.amazonaws.com/bloom-speech/audio/eng-0000-efaaf9a5-4462-4dd3-80a4-e62b04cebfff.mp3 failed to download. Data may be missing.\n",
      "https://s3.amazonaws.com/bloom-speech/audio/eng-0000-def83c37-5787-4206-92e8-39fc11ffe921.mp3 failed to download. Data may be missing.\n",
      "https://s3.amazonaws.com/bloom-speech/audio/eng-0000-narration2.mp3 failed to download. Data may be missing.\n",
      "https://s3.amazonaws.com/bloom-speech/audio/eng-0000-i8305af44-7f44-4bf2-b958-d478234dbbfa.mp3 failed to download. Data may be missing.\n",
      "https://s3.amazonaws.com/bloom-speech/audio/eng-0000-i2d112e8a-5205-4e95-b937-c48e9b8f9793.mp3 failed to download. Data may be missing.\n",
      "https://s3.amazonaws.com/bloom-speech/audio/eng-0000-i7f916012-203c-4e77-860c-9a9edbdccc5b.mp3 failed to download. Data may be missing.\n",
      "https://s3.amazonaws.com/bloom-speech/audio/eng-0000-narration5.mp3 failed to download. Data may be missing.\n",
      "https://s3.amazonaws.com/bloom-speech/audio/eng-0000-c5a87a61-c759-4435-9f39-3b92b1e79641.mp3 failed to download. Data may be missing.\n",
      "https://s3.amazonaws.com/bloom-speech/audio/eng-0000-i58f8280f-d7f1-4a2c-9bdb-5a91009f1d88.mp3 failed to download. Data may be missing.\n"
     ]
    },
    {
     "name": "stderr",
     "output_type": "stream",
     "text": [
      "Generating test split: 455 examples [00:00, 6246.82 examples/s]\n"
     ]
    },
    {
     "name": "stdout",
     "output_type": "stream",
     "text": [
      "https://s3.amazonaws.com/bloom-speech/audio/eng-0000-i72a6487b-d453-4a2a-9426-6090e34e85a6.mp3 failed to download. Data may be missing.\n",
      "https://s3.amazonaws.com/bloom-speech/audio/eng-0000-i053367b3-0607-45e5-90ab-444c0c441e68.mp3 failed to download. Data may be missing.\n",
      "https://s3.amazonaws.com/bloom-speech/audio/eng-0000-narration2.mp3 failed to download. Data may be missing.\n",
      "https://s3.amazonaws.com/bloom-speech/audio/eng-0000-b448dc59-79e9-45fc-968a-4d5d8458ca89.mp3 failed to download. Data may be missing.\n",
      "https://s3.amazonaws.com/bloom-speech/audio/eng-0000-i189f7f6f-5b27-4dba-9ef9-e57bbddda7eb.mp3 failed to download. Data may be missing.\n",
      "https://s3.amazonaws.com/bloom-speech/audio/eng-0000-narration12.mp3 failed to download. Data may be missing.\n",
      "https://s3.amazonaws.com/bloom-speech/audio/eng-0000-narration6.mp3 failed to download. Data may be missing.\n",
      "https://s3.amazonaws.com/bloom-speech/audio/eng-0000-i5a64c101-0197-4aeb-864d-2c7073ccca01.mp3 failed to download. Data may be missing.\n",
      "https://s3.amazonaws.com/bloom-speech/audio/eng-0000-narration2.mp3 failed to download. Data may be missing.\n",
      "https://s3.amazonaws.com/bloom-speech/audio/eng-0000-i76f9afa7-b21d-4910-b50c-e1d5b52c323d.mp3 failed to download. Data may be missing.\n",
      "https://s3.amazonaws.com/bloom-speech/audio/eng-0000-i7e19833e-f11d-4814-ba33-1803d9649475.mp3 failed to download. Data may be missing.\n",
      "https://s3.amazonaws.com/bloom-speech/audio/eng-0000-i023ca2e1-4cdc-423d-9caf-ef74614a570b.mp3 failed to download. Data may be missing.\n",
      "https://s3.amazonaws.com/bloom-speech/audio/eng-0000-i6e607e3f-0996-4578-94bf-40e8ef46e28e.mp3 failed to download. Data may be missing.\n",
      "https://s3.amazonaws.com/bloom-speech/audio/eng-0000-narration3.mp3 failed to download. Data may be missing.\n",
      "https://s3.amazonaws.com/bloom-speech/audio/eng-0000-i24debe28-f76e-40bc-98b2-6447df6fd6b9.mp3 failed to download. Data may be missing.\n",
      "https://s3.amazonaws.com/bloom-speech/audio/eng-0000-ad58107d-0761-44f0-a5b7-0a1466200694.mp3 failed to download. Data may be missing.\n",
      "https://s3.amazonaws.com/bloom-speech/audio/eng-0000-narration12.mp3 failed to download. Data may be missing.\n",
      "https://s3.amazonaws.com/bloom-speech/audio/eng-0000-b984188a-e99b-4666-87cf-afdea1f4ba91.mp3 failed to download. Data may be missing.\n",
      "https://s3.amazonaws.com/bloom-speech/audio/eng-0000-i916690ae-14a6-40c5-9590-76de911ec2a5.mp3 failed to download. Data may be missing.\n",
      "https://s3.amazonaws.com/bloom-speech/audio/eng-0000-df90f636-4eab-4354-a79a-ea925558f88e.mp3 failed to download. Data may be missing.\n",
      "https://s3.amazonaws.com/bloom-speech/audio/eng-0000-i15578c84-3c8c-47f9-9d6d-8e27e0f456f1.mp3 failed to download. Data may be missing.\n",
      "https://s3.amazonaws.com/bloom-speech/audio/eng-0000-be39e51e-5788-4fd7-a2eb-ada2fa6c8f1f.mp3 failed to download. Data may be missing.\n",
      "https://s3.amazonaws.com/bloom-speech/audio/eng-0000-narration9.mp3 failed to download. Data may be missing.\n",
      "https://s3.amazonaws.com/bloom-speech/audio/eng-0000-i4e6714fb-1243-4993-9e4a-49bc2ffa9fae.mp3 failed to download. Data may be missing.\n",
      "https://s3.amazonaws.com/bloom-speech/audio/eng-0000-f0b74ed9-9adb-4920-9fd4-ec6e0c1d2423.mp3 failed to download. Data may be missing.\n",
      "https://s3.amazonaws.com/bloom-speech/audio/eng-0000-i0f8acef0-fbb2-4ae6-a6f7-69e5eb4c7ec5.mp3 failed to download. Data may be missing.\n",
      "https://s3.amazonaws.com/bloom-speech/audio/eng-0000-narration9.mp3 failed to download. Data may be missing.\n",
      "https://s3.amazonaws.com/bloom-speech/audio/eng-0000-i4332131b-dd3b-4450-8e07-350215ab9cc3.mp3 failed to download. Data may be missing.\n",
      "https://s3.amazonaws.com/bloom-speech/audio/eng-0000-ce1c2606-98d7-4e5c-81dd-02d63e656a74.mp3 failed to download. Data may be missing.\n",
      "https://s3.amazonaws.com/bloom-speech/audio/eng-0000-ccb3f0c4-f19e-4922-929a-cb7c364390f0.mp3 failed to download. Data may be missing.\n"
     ]
    },
    {
     "name": "stderr",
     "output_type": "stream",
     "text": [
      "Generating validation split: 48 examples [00:00, 7172.56 examples/s]"
     ]
    },
    {
     "name": "stdout",
     "output_type": "stream",
     "text": [
      "https://s3.amazonaws.com/bloom-speech/audio/eng-0000-i1cde2768-3dbc-4437-8a04-a9b036064dfd.mp3 failed to download. Data may be missing.\n",
      "https://s3.amazonaws.com/bloom-speech/audio/eng-0000-i23aaf15d-6d5a-40e7-bf85-4f8718fdfb01.mp3 failed to download. Data may be missing.\n"
     ]
    },
    {
     "name": "stderr",
     "output_type": "stream",
     "text": [
      "\n"
     ]
    }
   ],
   "source": [
    "from datasets import load_dataset\n",
    "\n",
    "# If the dataset is gated/private, make sure you have run huggingface-cli login\n",
    "dataset = load_dataset(\"sil-ai/bloom-speech\", 'eng')"
   ]
  },
  {
   "cell_type": "code",
   "execution_count": null,
   "metadata": {},
   "outputs": [],
   "source": [
    "\"creating my own branch\""
   ]
  },
  {
   "cell_type": "code",
   "execution_count": null,
   "metadata": {},
   "outputs": [],
   "source": []
  },
  {
   "cell_type": "code",
   "execution_count": null,
   "metadata": {},
   "outputs": [],
   "source": []
  },
  {
   "cell_type": "code",
   "execution_count": null,
   "metadata": {},
   "outputs": [],
   "source": []
  }
 ],
 "metadata": {
  "kernelspec": {
   "display_name": "cleo",
   "language": "python",
   "name": "python3"
  },
  "language_info": {
   "codemirror_mode": {
    "name": "ipython",
    "version": 3
   },
   "file_extension": ".py",
   "mimetype": "text/x-python",
   "name": "python",
   "nbconvert_exporter": "python",
   "pygments_lexer": "ipython3",
   "version": "3.10.13"
  },
  "orig_nbformat": 4
 },
 "nbformat": 4,
 "nbformat_minor": 2
}
