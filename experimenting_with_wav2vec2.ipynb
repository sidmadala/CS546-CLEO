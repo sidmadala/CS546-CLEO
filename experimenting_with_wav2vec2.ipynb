{
 "cells": [
  {
   "cell_type": "code",
   "execution_count": null,
   "metadata": {},
   "outputs": [],
   "source": [
    "from transformers import ClapProcessor, ClapModel\n",
    "processor = ClapProcessor.from_pretrained(\"laion/clap-htsat-unfused\")"
   ]
  },
  {
   "cell_type": "code",
   "execution_count": null,
   "metadata": {},
   "outputs": [],
   "source": [
    "from datasets import load_dataset, Audio\n",
    "\n",
    "dataset = load_dataset(\"patrickvonplaten/librispeech_asr_self_contained\", split=\"train.clean.100\")\n",
    "dataset = dataset.cast_column(\"audio\", Audio(sampling_rate=48000))"
   ]
  },
  {
   "cell_type": "code",
   "execution_count": null,
   "metadata": {},
   "outputs": [],
   "source": [
    "from torch.utils.data import Dataset, DataLoader\n",
    "import numpy as np\n",
    "class CLEODataset(Dataset):\n",
    "    def __init__(self, dataset, instruction, processor, sampling_rate = 48000):\n",
    "        self.dataset = dataset\n",
    "        self.instruction = instruction\n",
    "        self.processor = processor\n",
    "        self.sampling_rate = sampling_rate\n",
    "\n",
    "    def __len__(self):\n",
    "        return len(self.dataset)\n",
    "\n",
    "    def __getitem__(self, idx):\n",
    "        ## Create the label\n",
    "        label = self.dataset[idx][\"text\"].lower()\n",
    "        \n",
    "        ## Save the audio\n",
    "        audio_array = self.dataset[idx][\"audio\"][\"array\"]\n",
    "        return self.instruction, audio_array, label\n",
    "\n",
    "def custom_collate_fn(original_batch):\n",
    "    instructions = [each[0] for each in original_batch]\n",
    "    audios = [each[1] for each in original_batch]\n",
    "    labels = [each[2] for each in original_batch]\n",
    "    return instructions, audios, labels"
   ]
  },
  {
   "cell_type": "code",
   "execution_count": null,
   "metadata": {},
   "outputs": [],
   "source": [
    "instruction = \"\"\"Repeat back the information that you see below:\n",
    "<wav>\n",
    "\n",
    "Information:\n",
    "\"\"\"\n",
    "cleoDataset = CLEODataset(dataset, instruction, processor)\n",
    "train_dataloader = DataLoader(cleoDataset, batch_size=8, shuffle=True, collate_fn=custom_collate_fn)\n"
   ]
  },
  {
   "cell_type": "code",
   "execution_count": null,
   "metadata": {},
   "outputs": [],
   "source": [
    "idx, preBatch = next(enumerate(train_dataloader))"
   ]
  },
  {
   "cell_type": "code",
   "execution_count": null,
   "metadata": {},
   "outputs": [],
   "source": [
    "batch = {\n",
    "    \"instructions\": preBatch[0],\n",
    "    \"audio_array\": preBatch[1],\n",
    "    \"labels\": preBatch[2]\n",
    "}"
   ]
  },
  {
   "cell_type": "code",
   "execution_count": null,
   "metadata": {},
   "outputs": [],
   "source": [
    "from cleo.cleoCLAP import CLEOClap\n",
    "clapModelVr = \"laion/clap-htsat-unfused\"\n",
    "cleo_model = CLEOClap(\n",
    "        llm_model_path = \"/home/models/Llama-2-7b-hf\",\n",
    "        audio_features = 512, # 1024 if ImageBind,\n",
    "        host_llm_on_cuda = True,\n",
    "        audio_gpu = \"cuda:1\",\n",
    "        clapModelVr = clapModelVr\n",
    ")"
   ]
  },
  {
   "cell_type": "code",
   "execution_count": null,
   "metadata": {},
   "outputs": [],
   "source": [
    "output = cleo_model(batch)\n",
    "loss = output.loss\n",
    "loss_val = loss.item()"
   ]
  },
  {
   "cell_type": "code",
   "execution_count": null,
   "metadata": {},
   "outputs": [],
   "source": []
  },
  {
   "cell_type": "code",
   "execution_count": null,
   "metadata": {},
   "outputs": [],
   "source": []
  }
 ],
 "metadata": {
  "kernelspec": {
   "display_name": "base",
   "language": "python",
   "name": "python3"
  },
  "language_info": {
   "codemirror_mode": {
    "name": "ipython",
    "version": 3
   },
   "file_extension": ".py",
   "mimetype": "text/x-python",
   "name": "python",
   "nbconvert_exporter": "python",
   "pygments_lexer": "ipython3",
   "version": "3.10.13"
  }
 },
 "nbformat": 4,
 "nbformat_minor": 2
}
