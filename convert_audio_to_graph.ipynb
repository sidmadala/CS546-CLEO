{
 "cells": [
  {
   "cell_type": "code",
   "execution_count": 44,
   "metadata": {},
   "outputs": [
    {
     "name": "stderr",
     "output_type": "stream",
     "text": [
      "100%|██████████| 200/200 [01:35<00:00,  2.09it/s]\n"
     ]
    }
   ],
   "source": [
    "from datasets import Dataset\n",
    "from datasets import load_from_disk\n",
    "from imagebind import data\n",
    "import torch\n",
    "from imagebind.models import imagebind_model\n",
    "from imagebind.models.imagebind_model import ModalityType\n",
    "from scipy.io.wavfile import write as write_wav\n",
    "import numpy as np\n",
    "import uuid\n",
    "import tqdm\n",
    "import seaborn as sns\n",
    "\n",
    "dataset = load_from_disk(\"/home/CS546-CLEO/data/processed_dataset\")\n",
    "id_list = [str(uuid.uuid4()) for i in range(0, len(dataset))]\n",
    "dataset = dataset.add_column(\"id\", id_list)\n",
    "\n",
    "## Save the audio files\n",
    "for i in tqdm.tqdm(range(0, len(dataset))):\n",
    "    file_name = \"wav_samples/\" + dataset[i][\"id\"] + \".wav\"\n",
    "    audio_file = np.array(dataset[i][\"wav\"][\"audio\"], dtype=np.float32)\n",
    "    sampling_rate = dataset[i][\"wav\"][\"sampling_rate\"]\n",
    "    write_wav(file_name, sampling_rate, audio_file)"
   ]
  },
  {
   "cell_type": "code",
   "execution_count": 3,
   "metadata": {},
   "outputs": [
    {
     "name": "stdout",
     "output_type": "stream",
     "text": [
      "model loaded\n"
     ]
    }
   ],
   "source": [
    "device = \"cuda:0\" if torch.cuda.is_available() else \"cpu\"\n",
    "\n",
    "# Instantiate model\n",
    "model = imagebind_model.imagebind_huge(pretrained=True)\n",
    "model.eval()\n",
    "model.to(device)\n",
    "print(\"model loaded\")"
   ]
  },
  {
   "cell_type": "code",
   "execution_count": 57,
   "metadata": {},
   "outputs": [],
   "source": [
    "def get_text_and_audio_lists(index_list):\n",
    "    text_list = []\n",
    "    audio_list = []\n",
    "    for index in index_list:\n",
    "        text_list.append(dataset[int(index)][\"text\"])\n",
    "        audio_list.append(\"wav_samples/\" + dataset[int(index)][\"id\"] + \".wav\")\n",
    "    return text_list, audio_list"
   ]
  },
  {
   "cell_type": "code",
   "execution_count": 62,
   "metadata": {},
   "outputs": [],
   "source": [
    "text_list, audio_list = get_text_and_audio_lists(np.random.randint(0, len(dataset), 3))\n",
    "inputs = {\n",
    "    ModalityType.AUDIO: data.load_and_transform_audio_data(audio_list, device, sample_rate=24000),\n",
    "    ModalityType.TEXT: data.load_and_transform_text_data(text_list, device),\n",
    "}\n",
    "with torch.no_grad():\n",
    "    embeddings = model(inputs)"
   ]
  },
  {
   "cell_type": "code",
   "execution_count": 71,
   "metadata": {},
   "outputs": [],
   "source": [
    "## Computes the pairwise distance between the audio & text\n",
    "print(\n",
    "    \"Audio X Text:\",\n",
    "    torch.softmax(embeddings[ModalityType.AUDIO] @ embeddings[ModalityType.TEXT].T, dim=-1)\n",
    ")"
   ]
  },
  {
   "cell_type": "code",
   "execution_count": 72,
   "metadata": {},
   "outputs": [],
   "source": []
  },
  {
   "cell_type": "code",
   "execution_count": null,
   "metadata": {},
   "outputs": [],
   "source": []
  },
  {
   "cell_type": "code",
   "execution_count": null,
   "metadata": {},
   "outputs": [],
   "source": []
  },
  {
   "cell_type": "code",
   "execution_count": null,
   "metadata": {},
   "outputs": [],
   "source": []
  },
  {
   "cell_type": "code",
   "execution_count": null,
   "metadata": {},
   "outputs": [],
   "source": []
  },
  {
   "cell_type": "code",
   "execution_count": null,
   "metadata": {},
   "outputs": [],
   "source": []
  },
  {
   "cell_type": "code",
   "execution_count": null,
   "metadata": {},
   "outputs": [],
   "source": []
  },
  {
   "cell_type": "code",
   "execution_count": null,
   "metadata": {},
   "outputs": [],
   "source": []
  },
  {
   "cell_type": "code",
   "execution_count": null,
   "metadata": {},
   "outputs": [],
   "source": []
  }
 ],
 "metadata": {
  "kernelspec": {
   "display_name": "base",
   "language": "python",
   "name": "python3"
  },
  "language_info": {
   "codemirror_mode": {
    "name": "ipython",
    "version": 3
   },
   "file_extension": ".py",
   "mimetype": "text/x-python",
   "name": "python",
   "nbconvert_exporter": "python",
   "pygments_lexer": "ipython3",
   "version": "3.10.13"
  }
 },
 "nbformat": 4,
 "nbformat_minor": 2
}
