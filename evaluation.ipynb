{
 "cells": [
  {
   "cell_type": "code",
   "execution_count": null,
   "metadata": {},
   "outputs": [],
   "source": [
    "from transformers import AutoTokenizer, AutoModelForCausalLM\n",
    "from imagebind import data\n",
    "import torch\n",
    "from imagebind.models import imagebind_model\n",
    "from imagebind.models.imagebind_model import ModalityType\n",
    "from cleo.cleoImageBind import CLEOImageBind\n",
    "from datasets import load_from_disk, load_dataset\n",
    "import tqdm\n",
    "import numpy as np\n",
    "import os"
   ]
  },
  {
   "cell_type": "code",
   "execution_count": null,
   "metadata": {},
   "outputs": [],
   "source": [
    "libri_dataset = load_dataset(\"patrickvonplaten/librispeech_asr_self_contained\", split=\"train.clean.100\")"
   ]
  },
  {
   "cell_type": "code",
   "execution_count": null,
   "metadata": {},
   "outputs": [],
   "source": [
    "ib_model = imagebind_model.imagebind_huge(pretrained=True)\n",
    "cleo_model = CLEOImageBind(\n",
    "    llm_model_path = \"/home/models/Llama-2-7b-hf\",\n",
    "    audio_features = 1024, # 1024 if ImageBind,\n",
    "    imageBind_model = ib_model,\n",
    "    host_llm_on_cuda = False,\n",
    "    audio_gpu=\"cpu\"\n",
    ")"
   ]
  },
  {
   "cell_type": "code",
   "execution_count": null,
   "metadata": {},
   "outputs": [],
   "source": [
    "#def get_sentence_length(example):\n",
    "#    example[\"sentence_length\"] = len(cleo_model.llm_tokenizer.encode(example[\"text\"], add_special_tokens=False))\n",
    "#    return example\n",
    "\n",
    "#updated_datset = dataset.map(get_sentence_length, batched=True, batch_size=1000)"
   ]
  },
  {
   "cell_type": "code",
   "execution_count": null,
   "metadata": {},
   "outputs": [],
   "source": [
    "sentences = libri_dataset[\"text\"]\n",
    "sentence_length = []\n",
    "for sentence in tqdm.tqdm(sentences):\n",
    "    sentence_length.append(len(cleo_model.llm_tokenizer.encode(sentence, add_special_tokens=False)))\n",
    "sentence_length = np.array(sentence_length)\n",
    "dataset = libri_dataset.add_column(\"sentence_length\", sentence_length)\n",
    "dataset = dataset.select(np.where(sentence_length < 20)[0])"
   ]
  },
  {
   "cell_type": "code",
   "execution_count": null,
   "metadata": {},
   "outputs": [],
   "source": [
    "experiment_name = \"ImageBind_model\"\n",
    "cleo_model.load_state_dict(torch.load(f\"/home/CS546-CLEO/models/{experiment_name}/model.pt\"))\n",
    "cleo_model.eval()"
   ]
  },
  {
   "cell_type": "code",
   "execution_count": null,
   "metadata": {},
   "outputs": [],
   "source": [
    "from torch.utils.data import Dataset, DataLoader\n",
    "from scipy.io.wavfile import write as write_wav\n",
    "import uuid\n",
    "class CLEODataset(Dataset):\n",
    "    def __init__(self, dataset, instruction):\n",
    "        self.dataset = dataset\n",
    "        self.instruction = instruction\n",
    "\n",
    "    def __len__(self):\n",
    "        return len(self.dataset)\n",
    "\n",
    "    def __getitem__(self, idx):\n",
    "        ## Create the label\n",
    "        label = self.dataset[idx][\"text\"].lower()\n",
    "        \n",
    "        ## Save the audio\n",
    "        file_name = f\"/home/CS546-CLEO/wav_samples/{str(uuid.uuid4())}.wav\"\n",
    "        audio_file = np.array(self.dataset[idx][\"audio\"][\"array\"], dtype=np.float32)\n",
    "        write_wav(file_name, 16000, audio_file)\n",
    "\n",
    "        return self.instruction, file_name, label\n",
    "\n",
    "instruction = \"\"\"Repeat back the information that you see below:\n",
    "<wav>\n",
    "\n",
    "Information:\n",
    "\"\"\"\n",
    "cleoDataset = CLEODataset(dataset, instruction)"
   ]
  },
  {
   "cell_type": "code",
   "execution_count": null,
   "metadata": {},
   "outputs": [],
   "source": [
    "def generate(instruction, audioPath, label, max_new_tokens=15, top_p=.5, top_k=50, temperature=1.5, repetition_penalty=1.5):\n",
    "    ## Create the batch\n",
    "    batch = {\n",
    "        \"instructions\": [instruction],\n",
    "        \"audio_paths\": [[audioPath]],\n",
    "        \"labels\": [label]\n",
    "    }\n",
    "\n",
    "    ## Get the embeddings\n",
    "    input_embs, input_attn, labels = cleo_model.__prepare_batch__(batch)\n",
    "\n",
    "    output = cleo_model.llm_model.generate(\n",
    "        inputs_embeds=input_embs,\n",
    "        attention_mask=input_attn,\n",
    "        max_new_tokens=max_new_tokens,\n",
    "        top_p=top_p,\n",
    "        top_k=top_k,\n",
    "        temperature=temperature,\n",
    "        repetition_penalty=repetition_penalty,\n",
    "    )\n",
    "    return output\n",
    "\n",
    "\n",
    "instruction, audioPath, label = cleoDataset.__getitem__(0)\n",
    "output = generate(instruction, audioPath, label)\n",
    "cleo_model.llm_tokenizer.decode(output[0], skip_special_tokens=True)"
   ]
  },
  {
   "cell_type": "code",
   "execution_count": null,
   "metadata": {},
   "outputs": [],
   "source": []
  },
  {
   "cell_type": "code",
   "execution_count": null,
   "metadata": {},
   "outputs": [],
   "source": []
  },
  {
   "cell_type": "code",
   "execution_count": 5,
   "metadata": {},
   "outputs": [],
   "source": [
    "import torch.nn as nn\n",
    "import torch\n",
    "encoder_layer = nn.TransformerEncoderLayer(d_model=1024, nhead=8, batch_first=True)\n",
    "src = torch.rand(8, 1024)\n",
    "out = encoder_layer(src)"
   ]
  },
  {
   "cell_type": "code",
   "execution_count": 6,
   "metadata": {},
   "outputs": [
    {
     "data": {
      "text/plain": [
       "torch.Size([8, 1024])"
      ]
     },
     "execution_count": 6,
     "metadata": {},
     "output_type": "execute_result"
    }
   ],
   "source": [
    "src.shape"
   ]
  },
  {
   "cell_type": "code",
   "execution_count": 7,
   "metadata": {},
   "outputs": [
    {
     "data": {
      "text/plain": [
       "torch.Size([8, 1024])"
      ]
     },
     "execution_count": 7,
     "metadata": {},
     "output_type": "execute_result"
    }
   ],
   "source": [
    "out.shape"
   ]
  },
  {
   "cell_type": "code",
   "execution_count": null,
   "metadata": {},
   "outputs": [],
   "source": []
  },
  {
   "cell_type": "code",
   "execution_count": null,
   "metadata": {},
   "outputs": [],
   "source": []
  },
  {
   "cell_type": "code",
   "execution_count": null,
   "metadata": {},
   "outputs": [],
   "source": []
  },
  {
   "cell_type": "code",
   "execution_count": null,
   "metadata": {},
   "outputs": [],
   "source": []
  },
  {
   "cell_type": "code",
   "execution_count": null,
   "metadata": {},
   "outputs": [],
   "source": []
  }
 ],
 "metadata": {
  "kernelspec": {
   "display_name": "base",
   "language": "python",
   "name": "python3"
  },
  "language_info": {
   "codemirror_mode": {
    "name": "ipython",
    "version": 3
   },
   "file_extension": ".py",
   "mimetype": "text/x-python",
   "name": "python",
   "nbconvert_exporter": "python",
   "pygments_lexer": "ipython3",
   "version": "3.10.13"
  }
 },
 "nbformat": 4,
 "nbformat_minor": 2
}
