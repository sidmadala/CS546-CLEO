{
 "cells": [
  {
   "cell_type": "code",
   "execution_count": null,
   "metadata": {},
   "outputs": [],
   "source": [
    "from imagebind.models import imagebind_model\n",
    "from imagebind.models.imagebind_model import ModalityType\n",
    "from datasets import load_dataset\n",
    "\n",
    "dataset = load_dataset(\"patrickvonplaten/librispeech_asr_self_contained\")"
   ]
  },
  {
   "cell_type": "code",
   "execution_count": null,
   "metadata": {},
   "outputs": [],
   "source": [
    "from torch.utils.data import Dataset, DataLoader\n",
    "import uuid\n",
    "import numpy as np\n",
    "from scipy.io.wavfile import write as write_wav\n",
    "\n",
    "class CLEODataset(Dataset):\n",
    "    def __init__(self, dataset, instruction):\n",
    "        self.dataset = dataset\n",
    "        self.instruction = instruction\n",
    "\n",
    "    def __len__(self):\n",
    "        return len(self.dataset)\n",
    "\n",
    "    def __getitem__(self, idx):\n",
    "        ## Create the label\n",
    "        label = self.dataset[idx][\"text\"].lower()\n",
    "        \n",
    "        ## Save the audio\n",
    "        file_name = f\"/home/CS546-CLEO/wav_samples/{str(uuid.uuid4())}.wav\"\n",
    "        audio_file = np.array(self.dataset[idx][\"audio\"][\"array\"], dtype=np.float32)\n",
    "        write_wav(file_name, 16000, audio_file)\n",
    "\n",
    "        return self.instruction, file_name, label\n",
    "\n",
    "instruction = \"\"\"Convert the following information to a graph of triplets:\n",
    "<wav>\n",
    "\n",
    "Triples:\n",
    "\"\"\"\n",
    "\n",
    "cleoDataset = CLEODataset(dataset[\"train.clean.100\"], instruction)\n",
    "train_dataloader = DataLoader(cleoDataset, batch_size=8, shuffle=True)\n"
   ]
  },
  {
   "cell_type": "code",
   "execution_count": null,
   "metadata": {},
   "outputs": [],
   "source": [
    "idx, preBatch = next(enumerate(train_dataloader))"
   ]
  },
  {
   "cell_type": "code",
   "execution_count": null,
   "metadata": {},
   "outputs": [],
   "source": [
    "batch = {\n",
    "                \"instructions\": list(preBatch[0]),\n",
    "                \"audio_paths\": [[each] for each in list(preBatch[1])],\n",
    "                \"labels\": list(preBatch[2])\n",
    "            }"
   ]
  },
  {
   "cell_type": "code",
   "execution_count": null,
   "metadata": {},
   "outputs": [],
   "source": [
    "import os\n",
    "for each in preBatch[1]:\n",
    "    os.remove(each)"
   ]
  },
  {
   "cell_type": "code",
   "execution_count": null,
   "metadata": {},
   "outputs": [],
   "source": [
    "each"
   ]
  },
  {
   "cell_type": "code",
   "execution_count": null,
   "metadata": {},
   "outputs": [],
   "source": [
    "from IPython.display import Audio \n",
    "from scipy.io.wavfile import write as write_wav\n",
    "import numpy as np\n",
    "\n",
    "for i in range(0,5):\n",
    "    file_name = \"wav_samples/test_\" + str(i) + \".wav\"\n",
    "    audio_file = np.array(dataset[\"train.clean.100\"][i][\"audio\"][\"array\"], dtype=np.float32)\n",
    "    write_wav(file_name, 16000, audio_file)"
   ]
  },
  {
   "cell_type": "code",
   "execution_count": null,
   "metadata": {},
   "outputs": [],
   "source": [
    "import torch\n",
    "from imagebind import data\n",
    "device = \"cuda:0\" if torch.cuda.is_available() else \"cpu\"\n",
    "model = imagebind_model.imagebind_huge(pretrained=True)\n",
    "model.eval()\n",
    "model.to(device)"
   ]
  },
  {
   "cell_type": "code",
   "execution_count": null,
   "metadata": {},
   "outputs": [],
   "source": [
    "text_list = [dataset[\"train.clean.100\"][i][\"text\"].lower() for i in range(0,5)]\n",
    "audio_list = [\"wav_samples/test_\" + str(i) + \".wav\" for i in range(0,5)]"
   ]
  },
  {
   "cell_type": "code",
   "execution_count": null,
   "metadata": {},
   "outputs": [],
   "source": [
    "text_list"
   ]
  },
  {
   "cell_type": "code",
   "execution_count": null,
   "metadata": {},
   "outputs": [],
   "source": [
    "# Load data\n",
    "inputs = {\n",
    "    ModalityType.TEXT: data.load_and_transform_text(text_list, device),\n",
    "    ModalityType.AUDIO: data.load_and_transform_audio_data(audio_list, device),\n",
    "}\n",
    "\n",
    "with torch.no_grad():\n",
    "    embeddings = model(inputs)\n",
    "\n",
    "print(\n",
    "    \"Audio x Text: \",\n",
    "    embeddings[ModalityType.AUDIO] @ embeddings[ModalityType.TEXT].T,\n",
    ")"
   ]
  },
  {
   "cell_type": "code",
   "execution_count": null,
   "metadata": {},
   "outputs": [],
   "source": [
    "import seaborn as sns\n",
    "\n",
    "sns.heatmap(torch.softmax(embeddings[ModalityType.AUDIO] @ embeddings[ModalityType.TEXT].T, dim=-1).cpu().numpy())"
   ]
  },
  {
   "cell_type": "code",
   "execution_count": null,
   "metadata": {},
   "outputs": [],
   "source": []
  }
 ],
 "metadata": {
  "kernelspec": {
   "display_name": "base",
   "language": "python",
   "name": "python3"
  },
  "language_info": {
   "codemirror_mode": {
    "name": "ipython",
    "version": 3
   },
   "file_extension": ".py",
   "mimetype": "text/x-python",
   "name": "python",
   "nbconvert_exporter": "python",
   "pygments_lexer": "ipython3",
   "version": "3.10.13"
  }
 },
 "nbformat": 4,
 "nbformat_minor": 2
}
